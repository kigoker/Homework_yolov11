{
 "cells": [
  {
   "metadata": {
    "collapsed": true,
    "ExecuteTime": {
     "end_time": "2025-05-04T02:33:53.315731Z",
     "start_time": "2025-05-04T02:33:53.313490Z"
    }
   },
   "cell_type": "code",
   "outputs": [],
   "execution_count": 13,
   "source": [
    "from ultralytics import YOLO\n",
    "import cv2\n",
    "from collections import Counter  # 用于统计类别数量"
   ],
   "id": "initial_id"
  },
  {
   "metadata": {
    "ExecuteTime": {
     "end_time": "2025-05-04T02:33:53.340199Z",
     "start_time": "2025-05-04T02:33:53.319598Z"
    }
   },
   "cell_type": "code",
   "outputs": [],
   "execution_count": 14,
   "source": [
    "# 加载预训练的 YOLOv11n 模型\n",
    "model = YOLO('yolo11n.pt')\n",
    "source = 'image/three_fruit.jpeg' #更改为自己的图片路径"
   ],
   "id": "d58e28f4d27d6a76"
  },
  {
   "metadata": {
    "ExecuteTime": {
     "end_time": "2025-05-04T02:34:25.078227Z",
     "start_time": "2025-05-04T02:34:25.021101Z"
    }
   },
   "cell_type": "code",
   "outputs": [
    {
     "name": "stdout",
     "output_type": "stream",
     "text": [
      "\n",
      "image 1/1 /home/adminpc/GitHub/ultralytics/src/作业一/image/three_fruit.jpeg: 480x640 1 banana, 2 apples, 46.5ms\n",
      "Speed: 1.2ms preprocess, 46.5ms inference, 0.9ms postprocess per image at shape (1, 3, 480, 640)\n",
      "Results saved to \u001B[1mruns/detect/predict11\u001B[0m\n"
     ]
    }
   ],
   "execution_count": 19,
   "source": [
    "# 3. 运行推理\n",
    "results = model.predict(source, save=True, conf=0.5)  # conf为置信度阈值"
   ],
   "id": "eb76246ccbb31b93"
  },
  {
   "metadata": {
    "ExecuteTime": {
     "end_time": "2025-05-04T02:46:18.241489Z",
     "start_time": "2025-05-04T02:46:18.237766Z"
    }
   },
   "cell_type": "code",
   "source": [
    "# 4. 统计并打印结果\n",
    "for result in results:\n",
    "    # 统计每个类别的出现次数\n",
    "    class_counts = Counter([result.names[int(box.cls)] for box in result.boxes])\n",
    "    annotated_frame = result.plot()  # 这个方法会返回带标注的图像\n",
    "    # 打印总检测数量和类别统计\n",
    "    print(f\"\\n检测到的目标总数: {len(result.boxes)}\")\n",
    "    print(\"类别统计:\")\n",
    "    for class_name, count in class_counts.items():\n",
    "        print(f\"- {class_name}: {count}\")\n",
    "\n",
    "    # 打印每个目标的详细信息（可选）\n",
    "    print(\"\\n详细信息:\")\n",
    "    for box in result.boxes:\n",
    "        class_name = result.names[int(box.cls)]\n",
    "        confidence = float(box.conf)\n",
    "        print(f\"  {class_name} (置信度: {confidence:.2f})\")"
   ],
   "id": "da4ff3ba56f6671e",
   "outputs": [
    {
     "name": "stdout",
     "output_type": "stream",
     "text": [
      "\n",
      "检测到的目标总数: 3\n",
      "类别统计:\n",
      "- banana: 1\n",
      "- apple: 2\n",
      "\n",
      "详细信息:\n",
      "  banana (置信度: 0.90)\n",
      "  apple (置信度: 0.85)\n",
      "  apple (置信度: 0.83)\n"
     ]
    }
   ],
   "execution_count": 23
  },
  {
   "metadata": {
    "ExecuteTime": {
     "end_time": "2025-05-04T02:46:37.493543Z",
     "start_time": "2025-05-04T02:46:31.598761Z"
    }
   },
   "cell_type": "code",
   "source": [
    "## 5. 处理并显示结果\n",
    "### 注意启动后不要点击X号，要点任意一个按键\n",
    "\n",
    "    # 5.3 显示结果\n",
    "cv2.imshow('YOLOv8 Detection', annotated_frame)\n",
    "cv2.waitKey(0)  # 等待任意按键关闭窗口\n",
    "cv2.destroyAllWindows()"
   ],
   "id": "30c7f91a0c31fc4f",
   "outputs": [],
   "execution_count": 25
  }
 ],
 "metadata": {
  "kernelspec": {
   "display_name": "Python 3",
   "language": "python",
   "name": "python3"
  },
  "language_info": {
   "codemirror_mode": {
    "name": "ipython",
    "version": 2
   },
   "file_extension": ".py",
   "mimetype": "text/x-python",
   "name": "python",
   "nbconvert_exporter": "python",
   "pygments_lexer": "ipython2",
   "version": "2.7.6"
  }
 },
 "nbformat": 4,
 "nbformat_minor": 5
}
